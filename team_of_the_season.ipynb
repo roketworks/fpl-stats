{
 "cells": [
  {
   "cell_type": "code",
   "execution_count": 66,
   "id": "d71ef50e-7eba-4d17-a14b-6e90b29737af",
   "metadata": {
    "editable": true,
    "slideshow": {
     "slide_type": ""
    },
    "tags": []
   },
   "outputs": [],
   "source": [
    "import json\n",
    "import os\n",
    "import re\n",
    "import pandas as pd"
   ]
  },
  {
   "cell_type": "code",
   "execution_count": 120,
   "id": "d106a16b-1e21-48a0-901d-3bee92dfb88a",
   "metadata": {},
   "outputs": [],
   "source": [
    "league = 21114"
   ]
  },
  {
   "cell_type": "code",
   "execution_count": 121,
   "id": "ccdc65fe-f00d-4644-9c42-9a84667dd9d5",
   "metadata": {
    "editable": true,
    "slideshow": {
     "slide_type": ""
    },
    "tags": []
   },
   "outputs": [],
   "source": [
    "with open('data/bootstrap-static.json','r') as f:\n",
    "    data = json.loads(f.read())"
   ]
  },
  {
   "cell_type": "code",
   "execution_count": 122,
   "id": "73b30ad1-cdbc-4da7-966c-20ee715ea7cb",
   "metadata": {
    "editable": true,
    "slideshow": {
     "slide_type": ""
    },
    "tags": []
   },
   "outputs": [],
   "source": [
    "players = {}\n",
    "for element in data['elements']:\n",
    "    id = element['id']\n",
    "    name = element['web_name']\n",
    "    position = element['element_type']\n",
    "    players[id] = {\n",
    "        'name': name,\n",
    "        'position': 'GK' if position == 1 else 'DEF' if position == 2 else 'MID' if position == 3 else 'FWD' \n",
    "    }"
   ]
  },
  {
   "cell_type": "code",
   "execution_count": 123,
   "id": "aada3461-de64-4c96-8750-1fb1a7c5e71d",
   "metadata": {
    "editable": true,
    "slideshow": {
     "slide_type": ""
    },
    "tags": []
   },
   "outputs": [],
   "source": [
    "def list_files(directory):\n",
    "    files = []\n",
    "    for root, _, filenames in os.walk(directory):\n",
    "        for filename in filenames:\n",
    "            files.append(os.path.join(root, filename))\n",
    "    return files"
   ]
  },
  {
   "cell_type": "code",
   "execution_count": 124,
   "id": "3cb05d3a-1efb-448e-af25-6fcbce5c0d25",
   "metadata": {
    "editable": true,
    "slideshow": {
     "slide_type": ""
    },
    "tags": []
   },
   "outputs": [],
   "source": [
    "player_results = {}\n",
    "\n",
    "file_list = list_files(f'./data/{league}/entries/')\n",
    "for file_path in file_list:\n",
    "    pattern = r\"entry_(\\d+)_(\\d+)_picks\"\n",
    "    match = re.match(pattern, os.path.basename(file_path))\n",
    "\n",
    "    id = match.group(1)\n",
    "    week = match.group(2)\n",
    "\n",
    "    with open(file_path,'r') as f:\n",
    "        entry_data = json.loads(f.read())\n",
    "\n",
    "    with open(f'./data/{league}/points/{week}_points.json', 'r') as f:\n",
    "        points_data = json.loads(f.read())\n",
    "\n",
    "    picks = entry_data['picks'][:11]\n",
    "    for pick in picks:        \n",
    "        element = pick['element']\n",
    "        points = points_data['elements'][f'{element}']['stats']['total_points']\n",
    "        player=players[element]\n",
    "        \n",
    "        if not element in player_results:\n",
    "            player_results[element] = {\n",
    "                'name': player['name'],\n",
    "                'position': player['position'],\n",
    "                'points': points,\n",
    "            }\n",
    "        else:\n",
    "            current_points = player_results[element]['points']\n",
    "            player_results[element]['points'] = current_points+points "
   ]
  },
  {
   "cell_type": "code",
   "execution_count": 126,
   "id": "7b40fce5-307e-4fcb-96b2-b50358ece188",
   "metadata": {
    "editable": true,
    "slideshow": {
     "slide_type": ""
    },
    "tags": []
   },
   "outputs": [
    {
     "data": {
      "text/html": [
       "<div>\n",
       "<style scoped>\n",
       "    .dataframe tbody tr th:only-of-type {\n",
       "        vertical-align: middle;\n",
       "    }\n",
       "\n",
       "    .dataframe tbody tr th {\n",
       "        vertical-align: top;\n",
       "    }\n",
       "\n",
       "    .dataframe thead th {\n",
       "        text-align: right;\n",
       "    }\n",
       "</style>\n",
       "<table border=\"1\" class=\"dataframe\">\n",
       "  <thead>\n",
       "    <tr style=\"text-align: right;\">\n",
       "      <th></th>\n",
       "      <th>name</th>\n",
       "      <th>position</th>\n",
       "      <th>points</th>\n",
       "    </tr>\n",
       "  </thead>\n",
       "  <tbody>\n",
       "    <tr>\n",
       "      <th>16</th>\n",
       "      <td>Gabriel</td>\n",
       "      <td>DEF</td>\n",
       "      <td>124</td>\n",
       "    </tr>\n",
       "    <tr>\n",
       "      <th>377</th>\n",
       "      <td>Botman</td>\n",
       "      <td>DEF</td>\n",
       "      <td>126</td>\n",
       "    </tr>\n",
       "    <tr>\n",
       "      <th>10</th>\n",
       "      <td>White</td>\n",
       "      <td>DEF</td>\n",
       "      <td>134</td>\n",
       "    </tr>\n",
       "    <tr>\n",
       "      <th>285</th>\n",
       "      <td>Alexander-Arnold</td>\n",
       "      <td>DEF</td>\n",
       "      <td>150</td>\n",
       "    </tr>\n",
       "    <tr>\n",
       "      <th>357</th>\n",
       "      <td>Trippier</td>\n",
       "      <td>DEF</td>\n",
       "      <td>198</td>\n",
       "    </tr>\n",
       "    <tr>\n",
       "      <th>356</th>\n",
       "      <td>Wilson</td>\n",
       "      <td>FWD</td>\n",
       "      <td>137</td>\n",
       "    </tr>\n",
       "    <tr>\n",
       "      <th>40</th>\n",
       "      <td>Watkins</td>\n",
       "      <td>FWD</td>\n",
       "      <td>167</td>\n",
       "    </tr>\n",
       "    <tr>\n",
       "      <th>80</th>\n",
       "      <td>Toney</td>\n",
       "      <td>FWD</td>\n",
       "      <td>168</td>\n",
       "    </tr>\n",
       "    <tr>\n",
       "      <th>427</th>\n",
       "      <td>Kane</td>\n",
       "      <td>FWD</td>\n",
       "      <td>263</td>\n",
       "    </tr>\n",
       "    <tr>\n",
       "      <th>318</th>\n",
       "      <td>Haaland</td>\n",
       "      <td>FWD</td>\n",
       "      <td>272</td>\n",
       "    </tr>\n",
       "    <tr>\n",
       "      <th>478</th>\n",
       "      <td>Sá</td>\n",
       "      <td>GK</td>\n",
       "      <td>93</td>\n",
       "    </tr>\n",
       "    <tr>\n",
       "      <th>327</th>\n",
       "      <td>De Gea</td>\n",
       "      <td>GK</td>\n",
       "      <td>99</td>\n",
       "    </tr>\n",
       "    <tr>\n",
       "      <th>15</th>\n",
       "      <td>Ramsdale</td>\n",
       "      <td>GK</td>\n",
       "      <td>104</td>\n",
       "    </tr>\n",
       "    <tr>\n",
       "      <th>281</th>\n",
       "      <td>Alisson</td>\n",
       "      <td>GK</td>\n",
       "      <td>142</td>\n",
       "    </tr>\n",
       "    <tr>\n",
       "      <th>376</th>\n",
       "      <td>Pope</td>\n",
       "      <td>GK</td>\n",
       "      <td>153</td>\n",
       "    </tr>\n",
       "    <tr>\n",
       "      <th>301</th>\n",
       "      <td>De Bruyne</td>\n",
       "      <td>MID</td>\n",
       "      <td>183</td>\n",
       "    </tr>\n",
       "    <tr>\n",
       "      <th>19</th>\n",
       "      <td>Martinelli</td>\n",
       "      <td>MID</td>\n",
       "      <td>198</td>\n",
       "    </tr>\n",
       "    <tr>\n",
       "      <th>13</th>\n",
       "      <td>Saka</td>\n",
       "      <td>MID</td>\n",
       "      <td>202</td>\n",
       "    </tr>\n",
       "    <tr>\n",
       "      <th>7</th>\n",
       "      <td>Ødegaard</td>\n",
       "      <td>MID</td>\n",
       "      <td>212</td>\n",
       "    </tr>\n",
       "    <tr>\n",
       "      <th>283</th>\n",
       "      <td>Salah</td>\n",
       "      <td>MID</td>\n",
       "      <td>239</td>\n",
       "    </tr>\n",
       "  </tbody>\n",
       "</table>\n",
       "</div>"
      ],
      "text/plain": [
       "                 name position  points\n",
       "16            Gabriel      DEF     124\n",
       "377            Botman      DEF     126\n",
       "10              White      DEF     134\n",
       "285  Alexander-Arnold      DEF     150\n",
       "357          Trippier      DEF     198\n",
       "356            Wilson      FWD     137\n",
       "40            Watkins      FWD     167\n",
       "80              Toney      FWD     168\n",
       "427              Kane      FWD     263\n",
       "318           Haaland      FWD     272\n",
       "478                Sá       GK      93\n",
       "327            De Gea       GK      99\n",
       "15           Ramsdale       GK     104\n",
       "281           Alisson       GK     142\n",
       "376              Pope       GK     153\n",
       "301         De Bruyne      MID     183\n",
       "19         Martinelli      MID     198\n",
       "13               Saka      MID     202\n",
       "7            Ødegaard      MID     212\n",
       "283             Salah      MID     239"
      ]
     },
     "execution_count": 126,
     "metadata": {},
     "output_type": "execute_result"
    }
   ],
   "source": [
    "pd.DataFrame.from_dict(player_results, orient='index')\\\n",
    "    .sort_values(by='points', ascending=False)\\\n",
    "    .groupby('position').head(5).sort_values(['position', 'points'])"
   ]
  },
  {
   "cell_type": "code",
   "execution_count": null,
   "id": "776e4efc-959a-4aa8-a8a6-861f36fc175d",
   "metadata": {
    "editable": true,
    "slideshow": {
     "slide_type": ""
    },
    "tags": []
   },
   "outputs": [],
   "source": []
  }
 ],
 "metadata": {
  "kernelspec": {
   "display_name": "Python 3 (ipykernel)",
   "language": "python",
   "name": "python3"
  },
  "language_info": {
   "codemirror_mode": {
    "name": "ipython",
    "version": 3
   },
   "file_extension": ".py",
   "mimetype": "text/x-python",
   "name": "python",
   "nbconvert_exporter": "python",
   "pygments_lexer": "ipython3",
   "version": "3.11.3"
  }
 },
 "nbformat": 4,
 "nbformat_minor": 5
}
