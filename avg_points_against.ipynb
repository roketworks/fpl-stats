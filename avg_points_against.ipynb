{
 "cells": [
  {
   "cell_type": "code",
   "execution_count": 2,
   "id": "84698fa0-d5ae-476b-8bad-f8a97208aa63",
   "metadata": {},
   "outputs": [],
   "source": [
    "import json\n",
    "import pandas as pd"
   ]
  },
  {
   "cell_type": "code",
   "execution_count": 35,
   "id": "1dc09544-bfc8-4cda-a911-8adf15d8147f",
   "metadata": {
    "editable": true,
    "slideshow": {
     "slide_type": ""
    },
    "tags": []
   },
   "outputs": [],
   "source": [
    "league = 48"
   ]
  },
  {
   "cell_type": "code",
   "execution_count": 36,
   "id": "a0f214a4-41d4-4e99-acc0-ba10e2306972",
   "metadata": {},
   "outputs": [],
   "source": [
    "with open(f'data/{league}/league_details.json','r') as f:\n",
    "    data = json.loads(f.read())"
   ]
  },
  {
   "cell_type": "code",
   "execution_count": 37,
   "id": "8303fe9a-589f-45ea-bfc4-73230d699784",
   "metadata": {
    "editable": true,
    "slideshow": {
     "slide_type": ""
    },
    "tags": []
   },
   "outputs": [],
   "source": [
    "teams = {}\n",
    "\n",
    "for team in data['league_entries']:\n",
    "    id = team['id']\n",
    "    name = team['entry_name']\n",
    "\n",
    "    if not id in teams:\n",
    "        teams[id] = name"
   ]
  },
  {
   "cell_type": "code",
   "execution_count": 38,
   "id": "b5a341d0-4455-4c5c-bc22-6f15d93b10e5",
   "metadata": {
    "editable": true,
    "slideshow": {
     "slide_type": ""
    },
    "tags": []
   },
   "outputs": [],
   "source": [
    "points_against = {}\n",
    "\n",
    "for game in data['matches']:\n",
    "    week = game['event']\n",
    "    entry1 = game['league_entry_1']\n",
    "    entry1points = game['league_entry_1_points']\n",
    "    entry2 = game['league_entry_2']\n",
    "    entry2points = game['league_entry_2_points']\n",
    "\n",
    "    team1 = teams[entry1]\n",
    "    team2 = teams[entry2]\n",
    "    \n",
    "    if not team1 in points_against:\n",
    "        points_against[teams[entry1]] = 0\n",
    "\n",
    "    if not team2 in points_against:\n",
    "        points_against[teams[entry2]] = 0\n",
    "\n",
    "    points_against[team1] = points_against[team1]+entry2points\n",
    "    points_against[team2] = points_against[team2]+entry1points"
   ]
  },
  {
   "cell_type": "code",
   "execution_count": 39,
   "id": "9b40c0da-9b0a-4c49-a499-a1910e17c469",
   "metadata": {},
   "outputs": [
    {
     "data": {
      "text/html": [
       "<div>\n",
       "<style scoped>\n",
       "    .dataframe tbody tr th:only-of-type {\n",
       "        vertical-align: middle;\n",
       "    }\n",
       "\n",
       "    .dataframe tbody tr th {\n",
       "        vertical-align: top;\n",
       "    }\n",
       "\n",
       "    .dataframe thead th {\n",
       "        text-align: right;\n",
       "    }\n",
       "</style>\n",
       "<table border=\"1\" class=\"dataframe\">\n",
       "  <thead>\n",
       "    <tr style=\"text-align: right;\">\n",
       "      <th></th>\n",
       "      <th>points_against</th>\n",
       "      <th>avg</th>\n",
       "    </tr>\n",
       "  </thead>\n",
       "  <tbody>\n",
       "    <tr>\n",
       "      <th>Ali Stars</th>\n",
       "      <td>1728</td>\n",
       "      <td>45.0</td>\n",
       "    </tr>\n",
       "    <tr>\n",
       "      <th>Nippon Nerfers</th>\n",
       "      <td>1699</td>\n",
       "      <td>45.0</td>\n",
       "    </tr>\n",
       "    <tr>\n",
       "      <th>Montreal Giants</th>\n",
       "      <td>1687</td>\n",
       "      <td>44.0</td>\n",
       "    </tr>\n",
       "    <tr>\n",
       "      <th>Rathfriland Tapirs</th>\n",
       "      <td>1669</td>\n",
       "      <td>44.0</td>\n",
       "    </tr>\n",
       "    <tr>\n",
       "      <th>Dynamo Doagh</th>\n",
       "      <td>1642</td>\n",
       "      <td>43.0</td>\n",
       "    </tr>\n",
       "    <tr>\n",
       "      <th>Shelvey's Angels</th>\n",
       "      <td>1628</td>\n",
       "      <td>43.0</td>\n",
       "    </tr>\n",
       "    <tr>\n",
       "      <th>Dyatlov Passers</th>\n",
       "      <td>1571</td>\n",
       "      <td>41.0</td>\n",
       "    </tr>\n",
       "    <tr>\n",
       "      <th>Soldiers Coming</th>\n",
       "      <td>1498</td>\n",
       "      <td>39.0</td>\n",
       "    </tr>\n",
       "  </tbody>\n",
       "</table>\n",
       "</div>"
      ],
      "text/plain": [
       "                    points_against   avg\n",
       "Ali Stars                     1728  45.0\n",
       "Nippon Nerfers                1699  45.0\n",
       "Montreal Giants               1687  44.0\n",
       "Rathfriland Tapirs            1669  44.0\n",
       "Dynamo Doagh                  1642  43.0\n",
       "Shelvey's Angels              1628  43.0\n",
       "Dyatlov Passers               1571  41.0\n",
       "Soldiers Coming               1498  39.0"
      ]
     },
     "execution_count": 39,
     "metadata": {},
     "output_type": "execute_result"
    }
   ],
   "source": [
    "df = pd.DataFrame.from_dict(points_against, orient='index', columns=['points_against'])\n",
    "df['avg'] = (round(df['points_against']/38))\n",
    "df.sort_values(by='points_against', ascending=False)"
   ]
  },
  {
   "cell_type": "code",
   "execution_count": null,
   "id": "d40e4998-6fc3-40ce-af61-8504e41b239e",
   "metadata": {
    "editable": true,
    "slideshow": {
     "slide_type": ""
    },
    "tags": []
   },
   "outputs": [],
   "source": []
  }
 ],
 "metadata": {
  "kernelspec": {
   "display_name": "Python 3 (ipykernel)",
   "language": "python",
   "name": "python3"
  },
  "language_info": {
   "codemirror_mode": {
    "name": "ipython",
    "version": 3
   },
   "file_extension": ".py",
   "mimetype": "text/x-python",
   "name": "python",
   "nbconvert_exporter": "python",
   "pygments_lexer": "ipython3",
   "version": "3.11.3"
  }
 },
 "nbformat": 4,
 "nbformat_minor": 5
}
