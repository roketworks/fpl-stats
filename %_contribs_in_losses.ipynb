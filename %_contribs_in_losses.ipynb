{
 "cells": [
  {
   "cell_type": "code",
   "execution_count": 1,
   "id": "ec5d3a4c-fbe4-4275-9492-a4dddb202d2b",
   "metadata": {
    "tags": []
   },
   "outputs": [],
   "source": [
    "import json\n",
    "import pandas as pd"
   ]
  },
  {
   "cell_type": "code",
   "execution_count": 4,
   "id": "b2358300-baff-4f92-8475-855bd8ef775d",
   "metadata": {
    "tags": []
   },
   "outputs": [],
   "source": [
    "league = 48"
   ]
  },
  {
   "cell_type": "code",
   "execution_count": 6,
   "id": "3ed40170-3888-41a8-9924-049c0cb72e06",
   "metadata": {
    "tags": []
   },
   "outputs": [],
   "source": [
    "with open('data/bootstrap-static.json','r') as f:\n",
    "    data = json.loads(f.read())"
   ]
  },
  {
   "cell_type": "code",
   "execution_count": 7,
   "id": "9b22e533-c12b-4b20-9f8c-e759aad1e746",
   "metadata": {
    "tags": []
   },
   "outputs": [],
   "source": [
    "players = {}\n",
    "for element in data['elements']:\n",
    "    id = element['id']\n",
    "    name = element['web_name']\n",
    "    position = element['element_type']\n",
    "    players[id] = {\n",
    "        'name': name,\n",
    "        'position': 'GK' if position == 1 else 'DEF' if position == 2 else 'MID' if position == 3 else 'FWD' \n",
    "    }"
   ]
  },
  {
   "cell_type": "code",
   "execution_count": 8,
   "id": "dbf363b3-3e51-45a2-b257-f41f9b179a6c",
   "metadata": {
    "tags": []
   },
   "outputs": [],
   "source": [
    "def list_files(directory):\n",
    "    files = []\n",
    "    for root, _, filenames in os.walk(directory):\n",
    "        for filename in filenames:\n",
    "            files.append(os.path.join(root, filename))\n",
    "    return files"
   ]
  },
  {
   "cell_type": "code",
   "execution_count": null,
   "id": "7b5ed259-480c-421b-b71a-f2e948418b41",
   "metadata": {},
   "outputs": [],
   "source": [
    "player_results = {}\n",
    "\n",
    "file_list = list_files(f'./data/{league}/entries/')\n",
    "for file_path in file_list:\n",
    "    pattern = r\"entry_(\\d+)_(\\d+)_picks\"\n",
    "    match = re.match(pattern, os.path.basename(file_path))\n",
    "\n",
    "    id = match.group(1)\n",
    "    week = match.group(2)\n",
    "\n",
    "    with open(file_path,'r') as f:\n",
    "        entry_data = json.loads(f.read())\n",
    "\n",
    "    with open(f'./data/{league}/points/{week}_points.json', 'r') as f:\n",
    "        points_data = json.loads(f.read())\n",
    "\n",
    "    picks = entry_data['picks'][:11]\n",
    "    for pick in picks:        \n",
    "        element = pick['element']\n",
    "        points = points_data['elements'][f'{element}']['stats']['total_points']\n",
    "        player=players[element]\n",
    "        \n",
    "        if not element in player_results:\n",
    "            player_results[element] = {\n",
    "                'name': player['name'],\n",
    "                'position': player['position'],\n",
    "                'points': points,\n",
    "            }\n",
    "        else:\n",
    "            current_points = player_results[element]['points']\n",
    "            player_results[element]['points'] = current_points+points "
   ]
  }
 ],
 "metadata": {
  "kernelspec": {
   "display_name": "Python 3 (ipykernel)",
   "language": "python",
   "name": "python3"
  },
  "language_info": {
   "codemirror_mode": {
    "name": "ipython",
    "version": 3
   },
   "file_extension": ".py",
   "mimetype": "text/x-python",
   "name": "python",
   "nbconvert_exporter": "python",
   "pygments_lexer": "ipython3",
   "version": "3.11.3"
  }
 },
 "nbformat": 4,
 "nbformat_minor": 5
}
