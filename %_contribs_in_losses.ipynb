{
 "cells": [
  {
   "cell_type": "code",
   "execution_count": 1,
   "id": "ec5d3a4c-fbe4-4275-9492-a4dddb202d2b",
   "metadata": {
    "tags": []
   },
   "outputs": [],
   "source": [
    "import json\n",
    "import pandas as pd"
   ]
  },
  {
   "cell_type": "code",
   "execution_count": 2,
   "id": "b2358300-baff-4f92-8475-855bd8ef775d",
   "metadata": {
    "tags": []
   },
   "outputs": [],
   "source": [
    "league = 48"
   ]
  },
  {
   "cell_type": "code",
   "execution_count": 3,
   "id": "5d970ba9-ecd9-4c7c-a1c8-5853537b2ce6",
   "metadata": {
    "tags": []
   },
   "outputs": [],
   "source": [
    "with open(f'data/{league}/league_details.json','r') as f:\n",
    "    league_data = json.loads(f.read())"
   ]
  },
  {
   "cell_type": "code",
   "execution_count": 11,
   "id": "0c4cfb02-0085-4cd6-b77d-50f58814dcd0",
   "metadata": {
    "tags": []
   },
   "outputs": [
    {
     "data": {
      "text/html": [
       "<div>\n",
       "<style scoped>\n",
       "    .dataframe tbody tr th:only-of-type {\n",
       "        vertical-align: middle;\n",
       "    }\n",
       "\n",
       "    .dataframe tbody tr th {\n",
       "        vertical-align: top;\n",
       "    }\n",
       "\n",
       "    .dataframe thead th {\n",
       "        text-align: right;\n",
       "    }\n",
       "</style>\n",
       "<table border=\"1\" class=\"dataframe\">\n",
       "  <thead>\n",
       "    <tr style=\"text-align: right;\">\n",
       "      <th></th>\n",
       "      <th>114</th>\n",
       "      <th>171</th>\n",
       "      <th>719</th>\n",
       "      <th>1094</th>\n",
       "      <th>1484</th>\n",
       "      <th>82697</th>\n",
       "      <th>106624</th>\n",
       "      <th>106753</th>\n",
       "    </tr>\n",
       "  </thead>\n",
       "  <tbody>\n",
       "    <tr>\n",
       "      <th>id</th>\n",
       "      <td>114</td>\n",
       "      <td>171</td>\n",
       "      <td>719</td>\n",
       "      <td>1094</td>\n",
       "      <td>1484</td>\n",
       "      <td>82766</td>\n",
       "      <td>106731</td>\n",
       "      <td>106860</td>\n",
       "    </tr>\n",
       "    <tr>\n",
       "      <th>name</th>\n",
       "      <td>Shelvey's Angels</td>\n",
       "      <td>Dynamo Doagh</td>\n",
       "      <td>Dyatlov Passers</td>\n",
       "      <td>Soldiers Coming</td>\n",
       "      <td>Nippon Nerfers</td>\n",
       "      <td>Ali Stars</td>\n",
       "      <td>Rathfriland Tapirs</td>\n",
       "      <td>Montreal Giants</td>\n",
       "    </tr>\n",
       "  </tbody>\n",
       "</table>\n",
       "</div>"
      ],
      "text/plain": [
       "                114           171              719              1094    \\\n",
       "id                 114           171              719             1094   \n",
       "name  Shelvey's Angels  Dynamo Doagh  Dyatlov Passers  Soldiers Coming   \n",
       "\n",
       "              1484       82697               106624           106753  \n",
       "id              1484      82766              106731           106860  \n",
       "name  Nippon Nerfers  Ali Stars  Rathfriland Tapirs  Montreal Giants  "
      ]
     },
     "execution_count": 11,
     "metadata": {},
     "output_type": "execute_result"
    }
   ],
   "source": [
    "teams = {}\n",
    "\n",
    "for team in league_data['league_entries']:\n",
    "    entry_id = team['entry_id']\n",
    "    id = team['id']\n",
    "    name = team['entry_name']\n",
    "\n",
    "    if not id in teams:\n",
    "        teams[entry_id] = {\n",
    "            'id': id,\n",
    "            'name': name\n",
    "        }\n",
    "        \n",
    "pd.DataFrame(teams)       \n",
    "        \n",
    "for match in league_data['matches']:\n",
    "    week = match['event']\n",
    "    team1 = match['league_entry_1']\n",
    "    team2 = match['league_entry_2']\n",
    "\n",
    "        \n",
    "pd.DataFrame(teams)"
   ]
  },
  {
   "cell_type": "code",
   "execution_count": 18,
   "id": "3ed40170-3888-41a8-9924-049c0cb72e06",
   "metadata": {
    "tags": []
   },
   "outputs": [],
   "source": [
    "with open('data/bootstrap-static.json','r') as f:\n",
    "    bootstrap_data = json.loads(f.read())"
   ]
  },
  {
   "cell_type": "code",
   "execution_count": 19,
   "id": "9b22e533-c12b-4b20-9f8c-e759aad1e746",
   "metadata": {
    "tags": []
   },
   "outputs": [],
   "source": [
    "players = {}\n",
    "for element in bootstrap_data['elements']:\n",
    "    id = element['id']\n",
    "    name = element['web_name']\n",
    "    position = element['element_type']\n",
    "    players[id] = {\n",
    "        'name': name,\n",
    "        'position': 'GK' if position == 1 else 'DEF' if position == 2 else 'MID' if position == 3 else 'FWD' \n",
    "    }"
   ]
  },
  {
   "cell_type": "code",
   "execution_count": 10,
   "id": "dbf363b3-3e51-45a2-b257-f41f9b179a6c",
   "metadata": {
    "tags": []
   },
   "outputs": [],
   "source": [
    "def list_files(directory):\n",
    "    files = []\n",
    "    for root, _, filenames in os.walk(directory):\n",
    "        for filename in filenames:\n",
    "            files.append(os.path.join(root, filename))\n",
    "    return files"
   ]
  },
  {
   "cell_type": "code",
   "execution_count": null,
   "id": "7b5ed259-480c-421b-b71a-f2e948418b41",
   "metadata": {},
   "outputs": [],
   "source": [
    "results = {}\n",
    "\n",
    "file_list = list_files(f'./data/{league}/entries/')\n",
    "for file_path in file_list:\n",
    "    pattern = r\"entry_(\\d+)_(\\d+)_picks\"\n",
    "    match = re.match(pattern, os.path.basename(file_path))\n",
    "\n",
    "    id = match.group(1)\n",
    "    week = match.group(2)\n",
    "\n",
    "    with open(file_path,'r') as f:\n",
    "        entry_data = json.loads(f.read())\n",
    "\n",
    "    with open(f'./data/{league}/points/{week}_points.json', 'r') as f:\n",
    "        points_data = json.loads(f.read())\n",
    "        \n",
    "    if not id in results:\n",
    "        results[id] = []\n",
    "        \n",
    "    game_won = league_data['\n",
    "\n",
    "    picks = entry_data['picks'][:11]\n",
    "    for pick in picks:        \n",
    "        element = pick['element']\n",
    "        points = points_data['elements'][f'{element}']['stats']['total_points']\n",
    "        player=players[element]\n",
    "        \n",
    "        if not element in results:\n",
    "            player_results[element] = {\n",
    "                'name': player['name'],\n",
    "                'position': player['position'],\n",
    "                'points': points,\n",
    "            }\n",
    "        else:\n",
    "            current_points = player_results[element]['points']\n",
    "            player_results[element]['points'] = current_points+points "
   ]
  }
 ],
 "metadata": {
  "kernelspec": {
   "display_name": "Python 3 (ipykernel)",
   "language": "python",
   "name": "python3"
  },
  "language_info": {
   "codemirror_mode": {
    "name": "ipython",
    "version": 3
   },
   "file_extension": ".py",
   "mimetype": "text/x-python",
   "name": "python",
   "nbconvert_exporter": "python",
   "pygments_lexer": "ipython3",
   "version": "3.11.3"
  }
 },
 "nbformat": 4,
 "nbformat_minor": 5
}
