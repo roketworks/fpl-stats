{
 "cells": [
  {
   "cell_type": "code",
   "execution_count": 25,
   "id": "cffb0cd4-57a9-4912-899d-e5f988f04f06",
   "metadata": {
    "editable": true,
    "slideshow": {
     "slide_type": ""
    },
    "tags": []
   },
   "outputs": [],
   "source": [
    "import os\n",
    "import json\n",
    "import requests"
   ]
  },
  {
   "cell_type": "code",
   "execution_count": 26,
   "id": "4048db6f-6785-4142-8ac2-b8ece0b62172",
   "metadata": {
    "editable": true,
    "slideshow": {
     "slide_type": ""
    },
    "tags": []
   },
   "outputs": [],
   "source": [
    "leagues = [48, 21114]"
   ]
  },
  {
   "cell_type": "code",
   "execution_count": 27,
   "id": "0da57efc-04bb-485c-8bc3-dcf18f729e60",
   "metadata": {},
   "outputs": [],
   "source": [
    "def create_folder(path):\n",
    "    exists = os.path.exists(path)\n",
    "    if not exists:\n",
    "       os.makedirs(path)"
   ]
  },
  {
   "cell_type": "code",
   "execution_count": 28,
   "id": "02a2270e-e9c1-4c35-a038-dc68978707bc",
   "metadata": {},
   "outputs": [],
   "source": [
    "def download_league_details(league_id): \n",
    "    url = f'https://draft.premierleague.com/api/league/{league_id}/details'\n",
    "    response = requests.get(url)\n",
    "\n",
    "    if response.status_code == 200:\n",
    "        file_name = f'data/{league_id}/league_details.json'\n",
    "    \n",
    "        with open(file_name, \"wb\") as file:\n",
    "            file.write(response.content)\n",
    "    else: \n",
    "        raise Exception('Cant download results')"
   ]
  },
  {
   "cell_type": "code",
   "execution_count": 33,
   "id": "3a9ae53c-b92e-487a-9e38-4961145ff512",
   "metadata": {},
   "outputs": [],
   "source": [
    "def download_elements(): \n",
    "    url = 'https://draft.premierleague.com/api/bootstrap-static'\n",
    "    response = requests.get(url)\n",
    "\n",
    "    if response.status_code == 200:\n",
    "        file_name = f'data/bootstrap-static.json'\n",
    "    \n",
    "        with open(file_name, \"wb\") as file:\n",
    "            file.write(response.content)\n",
    "    else: \n",
    "        raise Exception('Cant download results')"
   ]
  },
  {
   "cell_type": "code",
   "execution_count": 34,
   "id": "372aad2d-1a12-4e94-b70a-7dc706eda169",
   "metadata": {
    "editable": true,
    "slideshow": {
     "slide_type": ""
    },
    "tags": []
   },
   "outputs": [],
   "source": [
    "def download_entry_picks(league_id, entry_id, week): \n",
    "    url = f'https://draft.premierleague.com/api/entry/{entry_id}/event/{week}'\n",
    "    response = requests.get(url)\n",
    "\n",
    "    if response.status_code == 200:\n",
    "        file_name = f'data/{league_id}/entries/entry_{entry_id}_{week}_picks.json'\n",
    "    \n",
    "        with open(file_name, \"wb\") as file:\n",
    "            file.write(response.content)\n",
    "    else: \n",
    "        raise Exception('Cant download results')"
   ]
  },
  {
   "cell_type": "code",
   "execution_count": 38,
   "id": "d119002a-cc02-4ec6-8b06-34b52a505800",
   "metadata": {},
   "outputs": [],
   "source": [
    "def download_weekly_live_points(league_id, week): \n",
    "    url = f'https://draft.premierleague.com/api/event/{week}/live'\n",
    "    response = requests.get(url)\n",
    "\n",
    "    if response.status_code == 200:\n",
    "        file_name = f'data/{league_id}/points/{week}_points.json'\n",
    "    \n",
    "        with open(file_name, \"wb\") as file:\n",
    "            file.write(response.content)\n",
    "    else: \n",
    "        raise Exception('Cant download results')"
   ]
  },
  {
   "cell_type": "code",
   "execution_count": 37,
   "id": "b3b1929d-c724-4717-953c-77990024a914",
   "metadata": {
    "editable": true,
    "slideshow": {
     "slide_type": ""
    },
    "tags": []
   },
   "outputs": [],
   "source": [
    "# Download shared bootstrap\n",
    "create_folder('./data')\n",
    "download_elements()\n",
    "\n",
    "# Download league specific data\n",
    "for league in leagues:\n",
    "    create_folder(f'./data/{league}')\n",
    "    create_folder(f'./data/{league}/entries')\n",
    "    create_folder(f'./data/{league}/points')\n",
    "    \n",
    "    download_league_details(league)\n",
    "\n",
    "    with open(f'data/{league}/league_details.json','r') as f:\n",
    "        league_data = json.loads(f.read())\n",
    "\n",
    "    teams = {}\n",
    "    for team in league_data['league_entries']:\n",
    "        id = team['entry_id']\n",
    "        name = team['entry_name']\n",
    "    \n",
    "        if not id in teams:\n",
    "            teams[id] = name\n",
    "    \n",
    "    for i in range(38):\n",
    "        week = i+1\n",
    "        download_weekly_live_points(league, week)\n",
    "        for team in teams:\n",
    "            download_entry_picks(league, team, week)"
   ]
  },
  {
   "cell_type": "code",
   "execution_count": null,
   "id": "51823df1-96d0-4bec-a8b5-dfdffba12bf5",
   "metadata": {},
   "outputs": [],
   "source": []
  }
 ],
 "metadata": {
  "kernelspec": {
   "display_name": "Python 3 (ipykernel)",
   "language": "python",
   "name": "python3"
  },
  "language_info": {
   "codemirror_mode": {
    "name": "ipython",
    "version": 3
   },
   "file_extension": ".py",
   "mimetype": "text/x-python",
   "name": "python",
   "nbconvert_exporter": "python",
   "pygments_lexer": "ipython3",
   "version": "3.11.3"
  }
 },
 "nbformat": 4,
 "nbformat_minor": 5
}
