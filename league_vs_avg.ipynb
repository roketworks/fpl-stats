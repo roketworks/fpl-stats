{
 "cells": [
  {
   "cell_type": "code",
   "execution_count": 19,
   "id": "83adbf32-cb9d-4aa6-a536-2ee3eccb83c6",
   "metadata": {
    "editable": true,
    "slideshow": {
     "slide_type": ""
    },
    "tags": []
   },
   "outputs": [],
   "source": [
    "import json\n",
    "import pandas as pd"
   ]
  },
  {
   "cell_type": "code",
   "execution_count": 87,
   "id": "8688a581-9b88-43df-93eb-45d19defb0f3",
   "metadata": {
    "editable": true,
    "slideshow": {
     "slide_type": ""
    },
    "tags": []
   },
   "outputs": [],
   "source": [
    "league = 48"
   ]
  },
  {
   "cell_type": "code",
   "execution_count": 80,
   "id": "170cedd9-2c9b-4078-b069-f07cf4e91a5f",
   "metadata": {
    "editable": true,
    "slideshow": {
     "slide_type": ""
    },
    "tags": []
   },
   "outputs": [],
   "source": [
    "with open(f'data/{league}/league_details.json','r') as f:\n",
    "    data = json.loads(f.read())"
   ]
  },
  {
   "cell_type": "code",
   "execution_count": 81,
   "id": "018df067-81e3-4dbd-85aa-38cae0dc1167",
   "metadata": {
    "editable": true,
    "slideshow": {
     "slide_type": ""
    },
    "tags": []
   },
   "outputs": [],
   "source": [
    "scores = {}\n",
    "\n",
    "for record in data['matches']:\n",
    "    week = record['event']\n",
    "    if not week in scores:\n",
    "        scores[week] = []\n",
    "\n",
    "    scores[week].append(record['league_entry_1_points'])\n",
    "    scores[week].append(record['league_entry_2_points'])"
   ]
  },
  {
   "cell_type": "code",
   "execution_count": 93,
   "id": "5dad4ab7-f560-431f-907e-0df816b9d12c",
   "metadata": {
    "editable": true,
    "slideshow": {
     "slide_type": ""
    },
    "tags": []
   },
   "outputs": [],
   "source": [
    "avg_per_week = {}\n",
    "\n",
    "for week in scores:\n",
    "    avg = round(sum(scores[week])/len(scores[week]))\n",
    "    avg_per_week[week] = avg\n",
    "\n",
    "#pd.DataFrame.from_dict(avg_per_week, orient='index')"
   ]
  },
  {
   "cell_type": "code",
   "execution_count": 94,
   "id": "376e5427-b71d-4fcf-abac-1949b90f35d9",
   "metadata": {
    "editable": true,
    "slideshow": {
     "slide_type": ""
    },
    "tags": []
   },
   "outputs": [],
   "source": [
    "teams = {}\n",
    "\n",
    "for team in data['league_entries']:\n",
    "    id = team['id']\n",
    "    name = team['entry_name']\n",
    "\n",
    "    if not id in teams:\n",
    "        teams[id] = name"
   ]
  },
  {
   "cell_type": "code",
   "execution_count": 95,
   "id": "25ac3dc3-bd37-4d76-a38b-a4bdcd7f11e6",
   "metadata": {
    "editable": true,
    "slideshow": {
     "slide_type": ""
    },
    "tags": []
   },
   "outputs": [],
   "source": [
    "games = []\n",
    "\n",
    "for game in data['matches']:\n",
    "    week = game['event']\n",
    "    entry1 = game['league_entry_1']\n",
    "    entry1points = game['league_entry_1_points']\n",
    "    entry2 = game['league_entry_2']\n",
    "    entry2points = game['league_entry_2_points']\n",
    "\n",
    "    # calc weekly points v avg \n",
    "    avg = avg_per_week[week]\n",
    "\n",
    "    entry1res = 3 if entry1points > avg else 1 if entry1points == avg else 0\n",
    "    entry2res = 3 if entry2points > avg else 1 if entry2points == avg else 0\n",
    "\n",
    "    games.append([teams[entry1], entry1res])\n",
    "    games.append([teams[entry2], entry2res])"
   ]
  },
  {
   "cell_type": "code",
   "execution_count": 96,
   "id": "7768f70e-b484-431d-8fab-c17817ee6f5d",
   "metadata": {
    "editable": true,
    "slideshow": {
     "slide_type": ""
    },
    "tags": []
   },
   "outputs": [
    {
     "data": {
      "text/html": [
       "<div>\n",
       "<style scoped>\n",
       "    .dataframe tbody tr th:only-of-type {\n",
       "        vertical-align: middle;\n",
       "    }\n",
       "\n",
       "    .dataframe tbody tr th {\n",
       "        vertical-align: top;\n",
       "    }\n",
       "\n",
       "    .dataframe thead th {\n",
       "        text-align: right;\n",
       "    }\n",
       "</style>\n",
       "<table border=\"1\" class=\"dataframe\">\n",
       "  <thead>\n",
       "    <tr style=\"text-align: right;\">\n",
       "      <th></th>\n",
       "      <th>points</th>\n",
       "    </tr>\n",
       "    <tr>\n",
       "      <th>team</th>\n",
       "      <th></th>\n",
       "    </tr>\n",
       "  </thead>\n",
       "  <tbody>\n",
       "    <tr>\n",
       "      <th>Dynamo Doagh</th>\n",
       "      <td>76</td>\n",
       "    </tr>\n",
       "    <tr>\n",
       "      <th>Nippon Nerfers</th>\n",
       "      <td>59</td>\n",
       "    </tr>\n",
       "    <tr>\n",
       "      <th>Soldiers Coming</th>\n",
       "      <td>59</td>\n",
       "    </tr>\n",
       "    <tr>\n",
       "      <th>Rathfriland Tapirs</th>\n",
       "      <td>47</td>\n",
       "    </tr>\n",
       "    <tr>\n",
       "      <th>Shelvey's Angels</th>\n",
       "      <td>45</td>\n",
       "    </tr>\n",
       "    <tr>\n",
       "      <th>Dyatlov Passers</th>\n",
       "      <td>44</td>\n",
       "    </tr>\n",
       "    <tr>\n",
       "      <th>Ali Stars</th>\n",
       "      <td>42</td>\n",
       "    </tr>\n",
       "    <tr>\n",
       "      <th>Montreal Giants</th>\n",
       "      <td>35</td>\n",
       "    </tr>\n",
       "  </tbody>\n",
       "</table>\n",
       "</div>"
      ],
      "text/plain": [
       "                    points\n",
       "team                      \n",
       "Dynamo Doagh            76\n",
       "Nippon Nerfers          59\n",
       "Soldiers Coming         59\n",
       "Rathfriland Tapirs      47\n",
       "Shelvey's Angels        45\n",
       "Dyatlov Passers         44\n",
       "Ali Stars               42\n",
       "Montreal Giants         35"
      ]
     },
     "execution_count": 96,
     "metadata": {},
     "output_type": "execute_result"
    }
   ],
   "source": [
    "df = pd.DataFrame(games, columns=[\"team\", \"points\"])\n",
    "df.groupby('team').sum().sort_values(by='points', ascending=False)"
   ]
  },
  {
   "cell_type": "code",
   "execution_count": null,
   "id": "a807839c-8515-42fd-ae44-1442075beba2",
   "metadata": {},
   "outputs": [],
   "source": []
  }
 ],
 "metadata": {
  "kernelspec": {
   "display_name": "Python 3 (ipykernel)",
   "language": "python",
   "name": "python3"
  },
  "language_info": {
   "codemirror_mode": {
    "name": "ipython",
    "version": 3
   },
   "file_extension": ".py",
   "mimetype": "text/x-python",
   "name": "python",
   "nbconvert_exporter": "python",
   "pygments_lexer": "ipython3",
   "version": "3.11.3"
  }
 },
 "nbformat": 4,
 "nbformat_minor": 5
}
